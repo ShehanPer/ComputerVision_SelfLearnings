{
  "nbformat": 4,
  "nbformat_minor": 0,
  "metadata": {
    "colab": {
      "provenance": [],
      "authorship_tag": "ABX9TyMPHkrjFxkZDDQduiq1ekIR",
      "include_colab_link": true
    },
    "kernelspec": {
      "name": "python3",
      "display_name": "Python 3"
    },
    "language_info": {
      "name": "python"
    }
  },
  "cells": [
    {
      "cell_type": "markdown",
      "metadata": {
        "id": "view-in-github",
        "colab_type": "text"
      },
      "source": [
        "<a href=\"https://colab.research.google.com/github/ShehanPer/ImageClassification/blob/main/Pytorch_start.ipynb\" target=\"_parent\"><img src=\"https://colab.research.google.com/assets/colab-badge.svg\" alt=\"Open In Colab\"/></a>"
      ]
    },
    {
      "cell_type": "code",
      "execution_count": 7,
      "metadata": {
        "colab": {
          "base_uri": "https://localhost:8080/"
        },
        "id": "Pl_aUX6f-JXp",
        "outputId": "d1568c62-142e-4021-bca4-403ef0066785"
      },
      "outputs": [
        {
          "output_type": "stream",
          "name": "stdout",
          "text": [
            "Requirement already satisfied: pip in /usr/local/lib/python3.10/dist-packages (23.1.2)\n",
            "Collecting pip\n",
            "  Downloading pip-24.0-py3-none-any.whl (2.1 MB)\n",
            "\u001b[2K     \u001b[90m━━━━━━━━━━━━━━━━━━━━━━━━━━━━━━━━━━━━━━━━\u001b[0m \u001b[32m2.1/2.1 MB\u001b[0m \u001b[31m8.4 MB/s\u001b[0m eta \u001b[36m0:00:00\u001b[0m\n",
            "\u001b[?25hInstalling collected packages: pip\n",
            "  Attempting uninstall: pip\n",
            "    Found existing installation: pip 23.1.2\n",
            "    Uninstalling pip-23.1.2:\n",
            "      Successfully uninstalled pip-23.1.2\n",
            "Successfully installed pip-24.0\n"
          ]
        }
      ],
      "source": [
        "!pip install --upgrade pip"
      ]
    },
    {
      "cell_type": "code",
      "source": [
        "import torch\n",
        "import numpy as np\n",
        "from torchvision import datasets\n",
        "from torchvision.transforms import ToTensor\n",
        "import matplotlib.pyplot as plt\n",
        "\n"
      ],
      "metadata": {
        "id": "9WXrhAF--qwe"
      },
      "execution_count": 9,
      "outputs": []
    },
    {
      "cell_type": "code",
      "source": [
        "train_data = datasets.MNIST(\n",
        "    root = 'data',\n",
        "    train = True,\n",
        "    transform = ToTensor(),\n",
        "    download = True\n",
        ")\n",
        "test_data = datasets.MNIST(\n",
        "    root = 'data',\n",
        "    train = False,\n",
        "    transform = ToTensor(),\n",
        "    download = True\n",
        ")\n"
      ],
      "metadata": {
        "colab": {
          "base_uri": "https://localhost:8080/"
        },
        "id": "VCrxTKwG_PX4",
        "outputId": "dae57cd5-7f6d-49c3-bdaa-7b42b4e03684"
      },
      "execution_count": 10,
      "outputs": [
        {
          "output_type": "stream",
          "name": "stdout",
          "text": [
            "Downloading http://yann.lecun.com/exdb/mnist/train-images-idx3-ubyte.gz\n",
            "Failed to download (trying next):\n",
            "HTTP Error 403: Forbidden\n",
            "\n",
            "Downloading https://ossci-datasets.s3.amazonaws.com/mnist/train-images-idx3-ubyte.gz\n",
            "Downloading https://ossci-datasets.s3.amazonaws.com/mnist/train-images-idx3-ubyte.gz to data/MNIST/raw/train-images-idx3-ubyte.gz\n"
          ]
        },
        {
          "output_type": "stream",
          "name": "stderr",
          "text": [
            "100%|██████████| 9912422/9912422 [00:00<00:00, 54088136.13it/s]\n"
          ]
        },
        {
          "output_type": "stream",
          "name": "stdout",
          "text": [
            "Extracting data/MNIST/raw/train-images-idx3-ubyte.gz to data/MNIST/raw\n",
            "\n",
            "Downloading http://yann.lecun.com/exdb/mnist/train-labels-idx1-ubyte.gz\n",
            "Failed to download (trying next):\n",
            "HTTP Error 403: Forbidden\n",
            "\n",
            "Downloading https://ossci-datasets.s3.amazonaws.com/mnist/train-labels-idx1-ubyte.gz\n",
            "Downloading https://ossci-datasets.s3.amazonaws.com/mnist/train-labels-idx1-ubyte.gz to data/MNIST/raw/train-labels-idx1-ubyte.gz\n"
          ]
        },
        {
          "output_type": "stream",
          "name": "stderr",
          "text": [
            "100%|██████████| 28881/28881 [00:00<00:00, 1521633.15it/s]\n"
          ]
        },
        {
          "output_type": "stream",
          "name": "stdout",
          "text": [
            "Extracting data/MNIST/raw/train-labels-idx1-ubyte.gz to data/MNIST/raw\n",
            "\n",
            "Downloading http://yann.lecun.com/exdb/mnist/t10k-images-idx3-ubyte.gz\n",
            "Failed to download (trying next):\n",
            "HTTP Error 403: Forbidden\n",
            "\n",
            "Downloading https://ossci-datasets.s3.amazonaws.com/mnist/t10k-images-idx3-ubyte.gz\n",
            "Downloading https://ossci-datasets.s3.amazonaws.com/mnist/t10k-images-idx3-ubyte.gz to data/MNIST/raw/t10k-images-idx3-ubyte.gz\n"
          ]
        },
        {
          "output_type": "stream",
          "name": "stderr",
          "text": [
            "100%|██████████| 1648877/1648877 [00:00<00:00, 11522472.00it/s]\n"
          ]
        },
        {
          "output_type": "stream",
          "name": "stdout",
          "text": [
            "Extracting data/MNIST/raw/t10k-images-idx3-ubyte.gz to data/MNIST/raw\n",
            "\n",
            "Downloading http://yann.lecun.com/exdb/mnist/t10k-labels-idx1-ubyte.gz\n",
            "Failed to download (trying next):\n",
            "HTTP Error 403: Forbidden\n",
            "\n",
            "Downloading https://ossci-datasets.s3.amazonaws.com/mnist/t10k-labels-idx1-ubyte.gz\n",
            "Downloading https://ossci-datasets.s3.amazonaws.com/mnist/t10k-labels-idx1-ubyte.gz to data/MNIST/raw/t10k-labels-idx1-ubyte.gz\n"
          ]
        },
        {
          "output_type": "stream",
          "name": "stderr",
          "text": [
            "100%|██████████| 4542/4542 [00:00<00:00, 7003870.87it/s]"
          ]
        },
        {
          "output_type": "stream",
          "name": "stdout",
          "text": [
            "Extracting data/MNIST/raw/t10k-labels-idx1-ubyte.gz to data/MNIST/raw\n",
            "\n"
          ]
        },
        {
          "output_type": "stream",
          "name": "stderr",
          "text": [
            "\n"
          ]
        }
      ]
    },
    {
      "cell_type": "code",
      "source": [
        "train_data"
      ],
      "metadata": {
        "colab": {
          "base_uri": "https://localhost:8080/"
        },
        "id": "0bGyAByTPT9r",
        "outputId": "1e518b3b-7bd5-4cf8-b5cb-8beb0f2c461b"
      },
      "execution_count": 11,
      "outputs": [
        {
          "output_type": "execute_result",
          "data": {
            "text/plain": [
              "Dataset MNIST\n",
              "    Number of datapoints: 60000\n",
              "    Root location: data\n",
              "    Split: Train\n",
              "    StandardTransform\n",
              "Transform: ToTensor()"
            ]
          },
          "metadata": {},
          "execution_count": 11
        }
      ]
    },
    {
      "cell_type": "code",
      "source": [
        "test_data\n"
      ],
      "metadata": {
        "colab": {
          "base_uri": "https://localhost:8080/"
        },
        "id": "Zc4ZlT1gPZ7L",
        "outputId": "bb9db38f-ce19-42aa-fd47-ac3dffc03e5d"
      },
      "execution_count": 12,
      "outputs": [
        {
          "output_type": "execute_result",
          "data": {
            "text/plain": [
              "Dataset MNIST\n",
              "    Number of datapoints: 10000\n",
              "    Root location: data\n",
              "    Split: Test\n",
              "    StandardTransform\n",
              "Transform: ToTensor()"
            ]
          },
          "metadata": {},
          "execution_count": 12
        }
      ]
    },
    {
      "cell_type": "code",
      "source": [
        "train_data.data.shape"
      ],
      "metadata": {
        "colab": {
          "base_uri": "https://localhost:8080/"
        },
        "id": "uHGMuQWWPhbV",
        "outputId": "3c01399f-dcdd-4726-d918-d1a9aa69f2fb"
      },
      "execution_count": 13,
      "outputs": [
        {
          "output_type": "execute_result",
          "data": {
            "text/plain": [
              "torch.Size([60000, 28, 28])"
            ]
          },
          "metadata": {},
          "execution_count": 13
        }
      ]
    },
    {
      "cell_type": "code",
      "source": [
        "from torch.utils.data import DataLoader\n",
        "\n",
        "loaders = {\n",
        "    'train':DataLoader(train_data,\n",
        "                       batch_size=100,\n",
        "                       shuffle = True,\n",
        "                       num_workers = 1),\n",
        "    'test':DataLoader(test_data,\n",
        "                       batch_size=100,\n",
        "                       shuffle = True,\n",
        "                       num_workers = 1),\n",
        "\n",
        "}"
      ],
      "metadata": {
        "id": "WfQMnFDVasLz"
      },
      "execution_count": 14,
      "outputs": []
    },
    {
      "cell_type": "code",
      "source": [
        "loaders"
      ],
      "metadata": {
        "colab": {
          "base_uri": "https://localhost:8080/"
        },
        "id": "4Zn7xKbucAt1",
        "outputId": "1d539576-421d-4b61-a9f3-fce3051c73a3"
      },
      "execution_count": 15,
      "outputs": [
        {
          "output_type": "execute_result",
          "data": {
            "text/plain": [
              "{'train': <torch.utils.data.dataloader.DataLoader at 0x7fc3090af310>,\n",
              " 'test': <torch.utils.data.dataloader.DataLoader at 0x7fc3090aeef0>}"
            ]
          },
          "metadata": {},
          "execution_count": 15
        }
      ]
    },
    {
      "cell_type": "code",
      "source": [
        "import torch.nn as nn\n",
        "import torch.nn.functional as F\n",
        "import torch.optim as optim\n",
        "\n",
        "\n",
        "class CNN(nn.Module):\n",
        "\n",
        "  def __init__(self):\n",
        "    super(CNN,self).__init__()\n",
        "\n",
        "    self.conv1 = nn.Conv2d(1,10,kernel_size=5)\n",
        "    self.conv2 = nn.Conv2d(10,20,kernel_size=5)\n",
        "    self.conv2_drop = nn.Dropout2d()\n",
        "    self.fc1 = nn.Linear(320, 50)\n",
        "    self.fc2 = nn.Linear(50, 10)\n",
        "\n",
        "  def forward(self,x):\n",
        "    x = F.relu(F.max_pool2d(self.conv1(x),2))\n",
        "    x = F.relu(F.max_pool2d(self.conv2_drop(self.conv2(x)),2))\n",
        "    x = x.view(-1,320)\n",
        "    x = F.relu(self.fc1(x))\n",
        "\n",
        "    x = F.dropout(x,training = self.training)\n",
        "    x = self.fc2(x)\n",
        "\n",
        "    return F.softmax(x)\n",
        "\n"
      ],
      "metadata": {
        "id": "Q2rafCNAcB8D"
      },
      "execution_count": 22,
      "outputs": []
    },
    {
      "cell_type": "code",
      "source": [
        "import torch\n",
        "\n",
        "model = CNN()\n",
        "optimizer = optim.Adam(model.parameters(),lr=0.001)\n",
        "\n",
        "loss_fn = nn.CrossEntropyLoss()\n",
        "\n",
        "def train(epoch):\n",
        "  model.train()\n",
        "  for batch_idx,(data,target) in enumerate(loaders['train']):\n",
        "    optimizer.zero_grad()\n",
        "    output = model(data)\n",
        "    loss = loss_fn(output,target)\n",
        "    loss.backward()\n",
        "    optimizer.step()\n",
        "    if batch_idx % 20 ==0:\n",
        "      print(f'Train Epoch: {epoch} [ {batch_idx*len(data)}/{len(loaders[\"train\"].dataset)} ({100. * batch_idx / len(loaders[\"train\"]):.0f}%)]\\tLoss: {loss.item():.6f}')\n",
        "\n",
        "def test():\n",
        "  model.eval()\n",
        "\n",
        "  test_loss = 0\n",
        "  correct = 0\n",
        "\n",
        "  with torch.no_grad():\n",
        "    for data,target in loaders['test']:\n",
        "      output = model(data)\n",
        "      test_loss += loss_fn(output,target).item()\n",
        "      pred = output.argmax(dim=1,keepdim=True)\n",
        "      correct += pred.eq(target.view_as(pred)).sum().item()\n",
        "\n",
        "  test_loss /= len(loaders['test'].dataset)\n",
        "  print('\\nTest set: Average loss: {:.4f}, Accuracy: {}/{} ({:.0f}%)\\n'.format(\n",
        "    test_loss, correct, len(loaders['test'].dataset),\n",
        "    100. * correct / len(loaders['test'].dataset)))\n"
      ],
      "metadata": {
        "id": "m667oy_wclj9"
      },
      "execution_count": 23,
      "outputs": []
    },
    {
      "cell_type": "code",
      "source": [
        "for epoch in range(1,10):\n",
        "  train(epoch)\n",
        "  test()"
      ],
      "metadata": {
        "colab": {
          "base_uri": "https://localhost:8080/"
        },
        "id": "jl0KikOMsDW8",
        "outputId": "4c0d20a2-6876-4778-a9e2-831df17775d8"
      },
      "execution_count": 24,
      "outputs": [
        {
          "output_type": "stream",
          "name": "stderr",
          "text": [
            "<ipython-input-22-bc70bc70c887>:26: UserWarning: Implicit dimension choice for softmax has been deprecated. Change the call to include dim=X as an argument.\n",
            "  return F.softmax(x)\n"
          ]
        },
        {
          "output_type": "stream",
          "name": "stdout",
          "text": [
            "Train Epoch: 1 [ 0/60000 (0%)]\tLoss: 2.303529\n",
            "Train Epoch: 1 [ 2000/60000 (3%)]\tLoss: 2.291775\n",
            "Train Epoch: 1 [ 4000/60000 (7%)]\tLoss: 2.124820\n",
            "Train Epoch: 1 [ 6000/60000 (10%)]\tLoss: 2.047364\n",
            "Train Epoch: 1 [ 8000/60000 (13%)]\tLoss: 1.921802\n",
            "Train Epoch: 1 [ 10000/60000 (17%)]\tLoss: 1.795447\n",
            "Train Epoch: 1 [ 12000/60000 (20%)]\tLoss: 1.838482\n",
            "Train Epoch: 1 [ 14000/60000 (23%)]\tLoss: 1.685088\n",
            "Train Epoch: 1 [ 16000/60000 (27%)]\tLoss: 1.721028\n",
            "Train Epoch: 1 [ 18000/60000 (30%)]\tLoss: 1.821711\n",
            "Train Epoch: 1 [ 20000/60000 (33%)]\tLoss: 1.795497\n",
            "Train Epoch: 1 [ 22000/60000 (37%)]\tLoss: 1.743688\n",
            "Train Epoch: 1 [ 24000/60000 (40%)]\tLoss: 1.684811\n",
            "Train Epoch: 1 [ 26000/60000 (43%)]\tLoss: 1.704418\n",
            "Train Epoch: 1 [ 28000/60000 (47%)]\tLoss: 1.699343\n",
            "Train Epoch: 1 [ 30000/60000 (50%)]\tLoss: 1.653996\n",
            "Train Epoch: 1 [ 32000/60000 (53%)]\tLoss: 1.676295\n",
            "Train Epoch: 1 [ 34000/60000 (57%)]\tLoss: 1.608384\n",
            "Train Epoch: 1 [ 36000/60000 (60%)]\tLoss: 1.631094\n",
            "Train Epoch: 1 [ 38000/60000 (63%)]\tLoss: 1.654968\n",
            "Train Epoch: 1 [ 40000/60000 (67%)]\tLoss: 1.611501\n",
            "Train Epoch: 1 [ 42000/60000 (70%)]\tLoss: 1.689326\n",
            "Train Epoch: 1 [ 44000/60000 (73%)]\tLoss: 1.679545\n",
            "Train Epoch: 1 [ 46000/60000 (77%)]\tLoss: 1.616312\n",
            "Train Epoch: 1 [ 48000/60000 (80%)]\tLoss: 1.632632\n",
            "Train Epoch: 1 [ 50000/60000 (83%)]\tLoss: 1.602070\n",
            "Train Epoch: 1 [ 52000/60000 (87%)]\tLoss: 1.596935\n",
            "Train Epoch: 1 [ 54000/60000 (90%)]\tLoss: 1.576270\n",
            "Train Epoch: 1 [ 56000/60000 (93%)]\tLoss: 1.603936\n",
            "Train Epoch: 1 [ 58000/60000 (97%)]\tLoss: 1.612907\n",
            "\n",
            "Test set: Average loss: 0.0153, Accuracy: 9372/10000 (94%)\n",
            "\n",
            "Train Epoch: 2 [ 0/60000 (0%)]\tLoss: 1.582757\n",
            "Train Epoch: 2 [ 2000/60000 (3%)]\tLoss: 1.617417\n",
            "Train Epoch: 2 [ 4000/60000 (7%)]\tLoss: 1.552678\n",
            "Train Epoch: 2 [ 6000/60000 (10%)]\tLoss: 1.584940\n",
            "Train Epoch: 2 [ 8000/60000 (13%)]\tLoss: 1.575503\n",
            "Train Epoch: 2 [ 10000/60000 (17%)]\tLoss: 1.630817\n",
            "Train Epoch: 2 [ 12000/60000 (20%)]\tLoss: 1.575505\n",
            "Train Epoch: 2 [ 14000/60000 (23%)]\tLoss: 1.633549\n",
            "Train Epoch: 2 [ 16000/60000 (27%)]\tLoss: 1.535026\n",
            "Train Epoch: 2 [ 18000/60000 (30%)]\tLoss: 1.578313\n",
            "Train Epoch: 2 [ 20000/60000 (33%)]\tLoss: 1.567226\n",
            "Train Epoch: 2 [ 22000/60000 (37%)]\tLoss: 1.593654\n",
            "Train Epoch: 2 [ 24000/60000 (40%)]\tLoss: 1.624757\n",
            "Train Epoch: 2 [ 26000/60000 (43%)]\tLoss: 1.600366\n",
            "Train Epoch: 2 [ 28000/60000 (47%)]\tLoss: 1.561620\n",
            "Train Epoch: 2 [ 30000/60000 (50%)]\tLoss: 1.583582\n",
            "Train Epoch: 2 [ 32000/60000 (53%)]\tLoss: 1.517258\n",
            "Train Epoch: 2 [ 34000/60000 (57%)]\tLoss: 1.599393\n",
            "Train Epoch: 2 [ 36000/60000 (60%)]\tLoss: 1.587696\n",
            "Train Epoch: 2 [ 38000/60000 (63%)]\tLoss: 1.604535\n",
            "Train Epoch: 2 [ 40000/60000 (67%)]\tLoss: 1.554935\n",
            "Train Epoch: 2 [ 42000/60000 (70%)]\tLoss: 1.588123\n",
            "Train Epoch: 2 [ 44000/60000 (73%)]\tLoss: 1.589410\n",
            "Train Epoch: 2 [ 46000/60000 (77%)]\tLoss: 1.626318\n",
            "Train Epoch: 2 [ 48000/60000 (80%)]\tLoss: 1.569177\n",
            "Train Epoch: 2 [ 50000/60000 (83%)]\tLoss: 1.542402\n",
            "Train Epoch: 2 [ 52000/60000 (87%)]\tLoss: 1.546032\n",
            "Train Epoch: 2 [ 54000/60000 (90%)]\tLoss: 1.589123\n",
            "Train Epoch: 2 [ 56000/60000 (93%)]\tLoss: 1.557728\n",
            "Train Epoch: 2 [ 58000/60000 (97%)]\tLoss: 1.540060\n",
            "\n",
            "Test set: Average loss: 0.0151, Accuracy: 9544/10000 (95%)\n",
            "\n",
            "Train Epoch: 3 [ 0/60000 (0%)]\tLoss: 1.563658\n",
            "Train Epoch: 3 [ 2000/60000 (3%)]\tLoss: 1.573667\n",
            "Train Epoch: 3 [ 4000/60000 (7%)]\tLoss: 1.561560\n",
            "Train Epoch: 3 [ 6000/60000 (10%)]\tLoss: 1.577474\n",
            "Train Epoch: 3 [ 8000/60000 (13%)]\tLoss: 1.563347\n",
            "Train Epoch: 3 [ 10000/60000 (17%)]\tLoss: 1.538839\n",
            "Train Epoch: 3 [ 12000/60000 (20%)]\tLoss: 1.560212\n",
            "Train Epoch: 3 [ 14000/60000 (23%)]\tLoss: 1.557026\n",
            "Train Epoch: 3 [ 16000/60000 (27%)]\tLoss: 1.542115\n",
            "Train Epoch: 3 [ 18000/60000 (30%)]\tLoss: 1.518172\n",
            "Train Epoch: 3 [ 20000/60000 (33%)]\tLoss: 1.532369\n",
            "Train Epoch: 3 [ 22000/60000 (37%)]\tLoss: 1.578489\n",
            "Train Epoch: 3 [ 24000/60000 (40%)]\tLoss: 1.531868\n",
            "Train Epoch: 3 [ 26000/60000 (43%)]\tLoss: 1.569125\n",
            "Train Epoch: 3 [ 28000/60000 (47%)]\tLoss: 1.604009\n",
            "Train Epoch: 3 [ 30000/60000 (50%)]\tLoss: 1.579176\n",
            "Train Epoch: 3 [ 32000/60000 (53%)]\tLoss: 1.548834\n",
            "Train Epoch: 3 [ 34000/60000 (57%)]\tLoss: 1.544440\n",
            "Train Epoch: 3 [ 36000/60000 (60%)]\tLoss: 1.531198\n",
            "Train Epoch: 3 [ 38000/60000 (63%)]\tLoss: 1.596397\n",
            "Train Epoch: 3 [ 40000/60000 (67%)]\tLoss: 1.578772\n",
            "Train Epoch: 3 [ 42000/60000 (70%)]\tLoss: 1.569630\n",
            "Train Epoch: 3 [ 44000/60000 (73%)]\tLoss: 1.571509\n",
            "Train Epoch: 3 [ 46000/60000 (77%)]\tLoss: 1.524562\n",
            "Train Epoch: 3 [ 48000/60000 (80%)]\tLoss: 1.553373\n",
            "Train Epoch: 3 [ 50000/60000 (83%)]\tLoss: 1.563101\n",
            "Train Epoch: 3 [ 52000/60000 (87%)]\tLoss: 1.529488\n",
            "Train Epoch: 3 [ 54000/60000 (90%)]\tLoss: 1.595502\n",
            "Train Epoch: 3 [ 56000/60000 (93%)]\tLoss: 1.556382\n",
            "Train Epoch: 3 [ 58000/60000 (97%)]\tLoss: 1.544555\n",
            "\n",
            "Test set: Average loss: 0.0150, Accuracy: 9612/10000 (96%)\n",
            "\n",
            "Train Epoch: 4 [ 0/60000 (0%)]\tLoss: 1.560574\n",
            "Train Epoch: 4 [ 2000/60000 (3%)]\tLoss: 1.540225\n",
            "Train Epoch: 4 [ 4000/60000 (7%)]\tLoss: 1.536279\n",
            "Train Epoch: 4 [ 6000/60000 (10%)]\tLoss: 1.495591\n",
            "Train Epoch: 4 [ 8000/60000 (13%)]\tLoss: 1.541187\n",
            "Train Epoch: 4 [ 10000/60000 (17%)]\tLoss: 1.512227\n",
            "Train Epoch: 4 [ 12000/60000 (20%)]\tLoss: 1.535423\n",
            "Train Epoch: 4 [ 14000/60000 (23%)]\tLoss: 1.537351\n",
            "Train Epoch: 4 [ 16000/60000 (27%)]\tLoss: 1.573828\n",
            "Train Epoch: 4 [ 18000/60000 (30%)]\tLoss: 1.539020\n",
            "Train Epoch: 4 [ 20000/60000 (33%)]\tLoss: 1.540672\n",
            "Train Epoch: 4 [ 22000/60000 (37%)]\tLoss: 1.572603\n",
            "Train Epoch: 4 [ 24000/60000 (40%)]\tLoss: 1.527194\n",
            "Train Epoch: 4 [ 26000/60000 (43%)]\tLoss: 1.561539\n",
            "Train Epoch: 4 [ 28000/60000 (47%)]\tLoss: 1.500515\n",
            "Train Epoch: 4 [ 30000/60000 (50%)]\tLoss: 1.547518\n",
            "Train Epoch: 4 [ 32000/60000 (53%)]\tLoss: 1.557269\n",
            "Train Epoch: 4 [ 34000/60000 (57%)]\tLoss: 1.530078\n",
            "Train Epoch: 4 [ 36000/60000 (60%)]\tLoss: 1.528326\n",
            "Train Epoch: 4 [ 38000/60000 (63%)]\tLoss: 1.571268\n",
            "Train Epoch: 4 [ 40000/60000 (67%)]\tLoss: 1.551985\n",
            "Train Epoch: 4 [ 42000/60000 (70%)]\tLoss: 1.576519\n",
            "Train Epoch: 4 [ 44000/60000 (73%)]\tLoss: 1.548285\n",
            "Train Epoch: 4 [ 46000/60000 (77%)]\tLoss: 1.575855\n",
            "Train Epoch: 4 [ 48000/60000 (80%)]\tLoss: 1.543245\n",
            "Train Epoch: 4 [ 50000/60000 (83%)]\tLoss: 1.529825\n",
            "Train Epoch: 4 [ 52000/60000 (87%)]\tLoss: 1.504014\n",
            "Train Epoch: 4 [ 54000/60000 (90%)]\tLoss: 1.521489\n",
            "Train Epoch: 4 [ 56000/60000 (93%)]\tLoss: 1.565018\n",
            "Train Epoch: 4 [ 58000/60000 (97%)]\tLoss: 1.505346\n",
            "\n",
            "Test set: Average loss: 0.0150, Accuracy: 9644/10000 (96%)\n",
            "\n",
            "Train Epoch: 5 [ 0/60000 (0%)]\tLoss: 1.527866\n",
            "Train Epoch: 5 [ 2000/60000 (3%)]\tLoss: 1.568268\n",
            "Train Epoch: 5 [ 4000/60000 (7%)]\tLoss: 1.568415\n",
            "Train Epoch: 5 [ 6000/60000 (10%)]\tLoss: 1.541223\n",
            "Train Epoch: 5 [ 8000/60000 (13%)]\tLoss: 1.565878\n",
            "Train Epoch: 5 [ 10000/60000 (17%)]\tLoss: 1.548690\n",
            "Train Epoch: 5 [ 12000/60000 (20%)]\tLoss: 1.576714\n",
            "Train Epoch: 5 [ 14000/60000 (23%)]\tLoss: 1.524814\n",
            "Train Epoch: 5 [ 16000/60000 (27%)]\tLoss: 1.561010\n",
            "Train Epoch: 5 [ 18000/60000 (30%)]\tLoss: 1.535191\n",
            "Train Epoch: 5 [ 20000/60000 (33%)]\tLoss: 1.530088\n",
            "Train Epoch: 5 [ 22000/60000 (37%)]\tLoss: 1.521841\n",
            "Train Epoch: 5 [ 24000/60000 (40%)]\tLoss: 1.549767\n",
            "Train Epoch: 5 [ 26000/60000 (43%)]\tLoss: 1.524634\n",
            "Train Epoch: 5 [ 28000/60000 (47%)]\tLoss: 1.525118\n",
            "Train Epoch: 5 [ 30000/60000 (50%)]\tLoss: 1.530465\n",
            "Train Epoch: 5 [ 32000/60000 (53%)]\tLoss: 1.560806\n",
            "Train Epoch: 5 [ 34000/60000 (57%)]\tLoss: 1.564021\n",
            "Train Epoch: 5 [ 36000/60000 (60%)]\tLoss: 1.542889\n",
            "Train Epoch: 5 [ 38000/60000 (63%)]\tLoss: 1.508365\n",
            "Train Epoch: 5 [ 40000/60000 (67%)]\tLoss: 1.505315\n",
            "Train Epoch: 5 [ 42000/60000 (70%)]\tLoss: 1.539004\n",
            "Train Epoch: 5 [ 44000/60000 (73%)]\tLoss: 1.548541\n",
            "Train Epoch: 5 [ 46000/60000 (77%)]\tLoss: 1.634228\n",
            "Train Epoch: 5 [ 48000/60000 (80%)]\tLoss: 1.535935\n",
            "Train Epoch: 5 [ 50000/60000 (83%)]\tLoss: 1.545851\n",
            "Train Epoch: 5 [ 52000/60000 (87%)]\tLoss: 1.557249\n",
            "Train Epoch: 5 [ 54000/60000 (90%)]\tLoss: 1.534609\n",
            "Train Epoch: 5 [ 56000/60000 (93%)]\tLoss: 1.532145\n",
            "Train Epoch: 5 [ 58000/60000 (97%)]\tLoss: 1.555312\n",
            "\n",
            "Test set: Average loss: 0.0149, Accuracy: 9684/10000 (97%)\n",
            "\n",
            "Train Epoch: 6 [ 0/60000 (0%)]\tLoss: 1.523807\n",
            "Train Epoch: 6 [ 2000/60000 (3%)]\tLoss: 1.543786\n",
            "Train Epoch: 6 [ 4000/60000 (7%)]\tLoss: 1.559800\n",
            "Train Epoch: 6 [ 6000/60000 (10%)]\tLoss: 1.558605\n",
            "Train Epoch: 6 [ 8000/60000 (13%)]\tLoss: 1.507061\n",
            "Train Epoch: 6 [ 10000/60000 (17%)]\tLoss: 1.522774\n",
            "Train Epoch: 6 [ 12000/60000 (20%)]\tLoss: 1.548181\n",
            "Train Epoch: 6 [ 14000/60000 (23%)]\tLoss: 1.522968\n",
            "Train Epoch: 6 [ 16000/60000 (27%)]\tLoss: 1.552527\n",
            "Train Epoch: 6 [ 18000/60000 (30%)]\tLoss: 1.515924\n",
            "Train Epoch: 6 [ 20000/60000 (33%)]\tLoss: 1.502518\n",
            "Train Epoch: 6 [ 22000/60000 (37%)]\tLoss: 1.514729\n",
            "Train Epoch: 6 [ 24000/60000 (40%)]\tLoss: 1.566028\n",
            "Train Epoch: 6 [ 26000/60000 (43%)]\tLoss: 1.538060\n",
            "Train Epoch: 6 [ 28000/60000 (47%)]\tLoss: 1.501659\n",
            "Train Epoch: 6 [ 30000/60000 (50%)]\tLoss: 1.537903\n",
            "Train Epoch: 6 [ 32000/60000 (53%)]\tLoss: 1.507759\n",
            "Train Epoch: 6 [ 34000/60000 (57%)]\tLoss: 1.559654\n",
            "Train Epoch: 6 [ 36000/60000 (60%)]\tLoss: 1.525632\n",
            "Train Epoch: 6 [ 38000/60000 (63%)]\tLoss: 1.569417\n",
            "Train Epoch: 6 [ 40000/60000 (67%)]\tLoss: 1.580716\n",
            "Train Epoch: 6 [ 42000/60000 (70%)]\tLoss: 1.545455\n",
            "Train Epoch: 6 [ 44000/60000 (73%)]\tLoss: 1.538213\n",
            "Train Epoch: 6 [ 46000/60000 (77%)]\tLoss: 1.508924\n",
            "Train Epoch: 6 [ 48000/60000 (80%)]\tLoss: 1.530875\n",
            "Train Epoch: 6 [ 50000/60000 (83%)]\tLoss: 1.574718\n",
            "Train Epoch: 6 [ 52000/60000 (87%)]\tLoss: 1.557562\n",
            "Train Epoch: 6 [ 54000/60000 (90%)]\tLoss: 1.523250\n",
            "Train Epoch: 6 [ 56000/60000 (93%)]\tLoss: 1.507926\n",
            "Train Epoch: 6 [ 58000/60000 (97%)]\tLoss: 1.534840\n",
            "\n",
            "Test set: Average loss: 0.0149, Accuracy: 9718/10000 (97%)\n",
            "\n",
            "Train Epoch: 7 [ 0/60000 (0%)]\tLoss: 1.530066\n",
            "Train Epoch: 7 [ 2000/60000 (3%)]\tLoss: 1.535542\n",
            "Train Epoch: 7 [ 4000/60000 (7%)]\tLoss: 1.561287\n",
            "Train Epoch: 7 [ 6000/60000 (10%)]\tLoss: 1.510406\n",
            "Train Epoch: 7 [ 8000/60000 (13%)]\tLoss: 1.586277\n",
            "Train Epoch: 7 [ 10000/60000 (17%)]\tLoss: 1.520587\n",
            "Train Epoch: 7 [ 12000/60000 (20%)]\tLoss: 1.504749\n",
            "Train Epoch: 7 [ 14000/60000 (23%)]\tLoss: 1.555843\n",
            "Train Epoch: 7 [ 16000/60000 (27%)]\tLoss: 1.512871\n",
            "Train Epoch: 7 [ 18000/60000 (30%)]\tLoss: 1.552554\n",
            "Train Epoch: 7 [ 20000/60000 (33%)]\tLoss: 1.545910\n",
            "Train Epoch: 7 [ 22000/60000 (37%)]\tLoss: 1.511233\n",
            "Train Epoch: 7 [ 24000/60000 (40%)]\tLoss: 1.570332\n",
            "Train Epoch: 7 [ 26000/60000 (43%)]\tLoss: 1.552406\n",
            "Train Epoch: 7 [ 28000/60000 (47%)]\tLoss: 1.528473\n",
            "Train Epoch: 7 [ 30000/60000 (50%)]\tLoss: 1.537966\n",
            "Train Epoch: 7 [ 32000/60000 (53%)]\tLoss: 1.503034\n",
            "Train Epoch: 7 [ 34000/60000 (57%)]\tLoss: 1.538376\n",
            "Train Epoch: 7 [ 36000/60000 (60%)]\tLoss: 1.584670\n",
            "Train Epoch: 7 [ 38000/60000 (63%)]\tLoss: 1.526507\n",
            "Train Epoch: 7 [ 40000/60000 (67%)]\tLoss: 1.550927\n",
            "Train Epoch: 7 [ 42000/60000 (70%)]\tLoss: 1.540251\n",
            "Train Epoch: 7 [ 44000/60000 (73%)]\tLoss: 1.522353\n",
            "Train Epoch: 7 [ 46000/60000 (77%)]\tLoss: 1.568375\n",
            "Train Epoch: 7 [ 48000/60000 (80%)]\tLoss: 1.515992\n",
            "Train Epoch: 7 [ 50000/60000 (83%)]\tLoss: 1.543406\n",
            "Train Epoch: 7 [ 52000/60000 (87%)]\tLoss: 1.491253\n",
            "Train Epoch: 7 [ 54000/60000 (90%)]\tLoss: 1.538919\n",
            "Train Epoch: 7 [ 56000/60000 (93%)]\tLoss: 1.522929\n",
            "Train Epoch: 7 [ 58000/60000 (97%)]\tLoss: 1.503017\n",
            "\n",
            "Test set: Average loss: 0.0149, Accuracy: 9714/10000 (97%)\n",
            "\n",
            "Train Epoch: 8 [ 0/60000 (0%)]\tLoss: 1.542249\n",
            "Train Epoch: 8 [ 2000/60000 (3%)]\tLoss: 1.506668\n",
            "Train Epoch: 8 [ 4000/60000 (7%)]\tLoss: 1.518598\n",
            "Train Epoch: 8 [ 6000/60000 (10%)]\tLoss: 1.542879\n",
            "Train Epoch: 8 [ 8000/60000 (13%)]\tLoss: 1.529452\n",
            "Train Epoch: 8 [ 10000/60000 (17%)]\tLoss: 1.508539\n",
            "Train Epoch: 8 [ 12000/60000 (20%)]\tLoss: 1.563647\n",
            "Train Epoch: 8 [ 14000/60000 (23%)]\tLoss: 1.509458\n",
            "Train Epoch: 8 [ 16000/60000 (27%)]\tLoss: 1.557596\n",
            "Train Epoch: 8 [ 18000/60000 (30%)]\tLoss: 1.499643\n",
            "Train Epoch: 8 [ 20000/60000 (33%)]\tLoss: 1.580159\n",
            "Train Epoch: 8 [ 22000/60000 (37%)]\tLoss: 1.547431\n",
            "Train Epoch: 8 [ 24000/60000 (40%)]\tLoss: 1.525573\n",
            "Train Epoch: 8 [ 26000/60000 (43%)]\tLoss: 1.546646\n",
            "Train Epoch: 8 [ 28000/60000 (47%)]\tLoss: 1.563563\n",
            "Train Epoch: 8 [ 30000/60000 (50%)]\tLoss: 1.529740\n",
            "Train Epoch: 8 [ 32000/60000 (53%)]\tLoss: 1.544041\n",
            "Train Epoch: 8 [ 34000/60000 (57%)]\tLoss: 1.520914\n",
            "Train Epoch: 8 [ 36000/60000 (60%)]\tLoss: 1.522187\n",
            "Train Epoch: 8 [ 38000/60000 (63%)]\tLoss: 1.516886\n",
            "Train Epoch: 8 [ 40000/60000 (67%)]\tLoss: 1.536315\n",
            "Train Epoch: 8 [ 42000/60000 (70%)]\tLoss: 1.516891\n",
            "Train Epoch: 8 [ 44000/60000 (73%)]\tLoss: 1.582129\n",
            "Train Epoch: 8 [ 46000/60000 (77%)]\tLoss: 1.517917\n",
            "Train Epoch: 8 [ 48000/60000 (80%)]\tLoss: 1.481715\n",
            "Train Epoch: 8 [ 50000/60000 (83%)]\tLoss: 1.557400\n",
            "Train Epoch: 8 [ 52000/60000 (87%)]\tLoss: 1.516370\n",
            "Train Epoch: 8 [ 54000/60000 (90%)]\tLoss: 1.519077\n",
            "Train Epoch: 8 [ 56000/60000 (93%)]\tLoss: 1.546956\n",
            "Train Epoch: 8 [ 58000/60000 (97%)]\tLoss: 1.520751\n",
            "\n",
            "Test set: Average loss: 0.0149, Accuracy: 9737/10000 (97%)\n",
            "\n",
            "Train Epoch: 9 [ 0/60000 (0%)]\tLoss: 1.509739\n",
            "Train Epoch: 9 [ 2000/60000 (3%)]\tLoss: 1.544775\n",
            "Train Epoch: 9 [ 4000/60000 (7%)]\tLoss: 1.507073\n",
            "Train Epoch: 9 [ 6000/60000 (10%)]\tLoss: 1.516747\n",
            "Train Epoch: 9 [ 8000/60000 (13%)]\tLoss: 1.543564\n",
            "Train Epoch: 9 [ 10000/60000 (17%)]\tLoss: 1.525732\n",
            "Train Epoch: 9 [ 12000/60000 (20%)]\tLoss: 1.537104\n",
            "Train Epoch: 9 [ 14000/60000 (23%)]\tLoss: 1.541173\n",
            "Train Epoch: 9 [ 16000/60000 (27%)]\tLoss: 1.538671\n",
            "Train Epoch: 9 [ 18000/60000 (30%)]\tLoss: 1.555767\n",
            "Train Epoch: 9 [ 20000/60000 (33%)]\tLoss: 1.534873\n",
            "Train Epoch: 9 [ 22000/60000 (37%)]\tLoss: 1.543730\n",
            "Train Epoch: 9 [ 24000/60000 (40%)]\tLoss: 1.536512\n",
            "Train Epoch: 9 [ 26000/60000 (43%)]\tLoss: 1.507362\n",
            "Train Epoch: 9 [ 28000/60000 (47%)]\tLoss: 1.539191\n",
            "Train Epoch: 9 [ 30000/60000 (50%)]\tLoss: 1.505120\n",
            "Train Epoch: 9 [ 32000/60000 (53%)]\tLoss: 1.520250\n",
            "Train Epoch: 9 [ 34000/60000 (57%)]\tLoss: 1.492625\n",
            "Train Epoch: 9 [ 36000/60000 (60%)]\tLoss: 1.531660\n",
            "Train Epoch: 9 [ 38000/60000 (63%)]\tLoss: 1.551495\n",
            "Train Epoch: 9 [ 40000/60000 (67%)]\tLoss: 1.513780\n",
            "Train Epoch: 9 [ 42000/60000 (70%)]\tLoss: 1.545618\n",
            "Train Epoch: 9 [ 44000/60000 (73%)]\tLoss: 1.515421\n",
            "Train Epoch: 9 [ 46000/60000 (77%)]\tLoss: 1.503737\n",
            "Train Epoch: 9 [ 48000/60000 (80%)]\tLoss: 1.543334\n",
            "Train Epoch: 9 [ 50000/60000 (83%)]\tLoss: 1.523943\n",
            "Train Epoch: 9 [ 52000/60000 (87%)]\tLoss: 1.513387\n",
            "Train Epoch: 9 [ 54000/60000 (90%)]\tLoss: 1.512313\n",
            "Train Epoch: 9 [ 56000/60000 (93%)]\tLoss: 1.511380\n",
            "Train Epoch: 9 [ 58000/60000 (97%)]\tLoss: 1.578904\n",
            "\n",
            "Test set: Average loss: 0.0149, Accuracy: 9746/10000 (97%)\n",
            "\n"
          ]
        }
      ]
    },
    {
      "cell_type": "code",
      "source": [
        "model.eval()\n",
        "data,target = test_data[2]\n",
        "output =model(data)\n",
        "prediction = output.argmax(dim=1,keepdim=True).item()\n",
        "print(f'Prediction: {prediction}')\n",
        "print(f'Target: {target}')\n",
        "image = data.squeeze()\n",
        "plt.imshow(image,cmap='gray')\n",
        "plt.show()\n"
      ],
      "metadata": {
        "colab": {
          "base_uri": "https://localhost:8080/",
          "height": 554
        },
        "id": "kRN5-od8sodT",
        "outputId": "bd627a64-fb1d-46fa-8d7a-b39d3b78e91a"
      },
      "execution_count": 51,
      "outputs": [
        {
          "output_type": "stream",
          "name": "stdout",
          "text": [
            "Prediction: 1\n",
            "Target: 1\n"
          ]
        },
        {
          "output_type": "stream",
          "name": "stderr",
          "text": [
            "/usr/local/lib/python3.10/dist-packages/torch/nn/functional.py:1381: UserWarning: dropout2d: Received a 3D input to dropout2d and assuming that channel-wise 1D dropout behavior is desired - input is interpreted as shape (N, C, L), where C is the channel dim. This behavior will change in a future release to interpret the input as one without a batch dimension, i.e. shape (C, H, W). To maintain the 1D channel-wise dropout behavior, please switch to using dropout1d instead.\n",
            "  warnings.warn(\"dropout2d: Received a 3D input to dropout2d and assuming that channel-wise \"\n",
            "<ipython-input-22-bc70bc70c887>:26: UserWarning: Implicit dimension choice for softmax has been deprecated. Change the call to include dim=X as an argument.\n",
            "  return F.softmax(x)\n"
          ]
        },
        {
          "output_type": "display_data",
          "data": {
            "text/plain": [
              "<Figure size 640x480 with 1 Axes>"
            ],
            "image/png": "[encoded data removed]"
          },
          "metadata": {}
        }
      ]
    },
    {
      "source": [
        "from IPython.display import Image\n",
        "\n",
        "Image(filename=\"/one_num.jpg\")"
      ],
      "cell_type": "code",
      "metadata": {
        "colab": {
          "base_uri": "https://localhost:8080/",
          "height": 817
        },
        "id": "qoz0G_EtznIu",
        "outputId": "db0666bd-0f00-405d-d88f-cb9fd013a037"
      },
      "execution_count": 31,
      "outputs": [
        {
          "output_type": "execute_result",
          "data": {
            "image/jpeg": "[encoded data removed]",
            "text/plain": [
              "<IPython.core.display.Image object>"
            ]
          },
          "metadata": {},
          "execution_count": 31
        }
      ]
    },
    {
      "cell_type": "code",
      "source": [
        "# Import necessary libraries\n",
        "from PIL import Image\n",
        "import torchvision.transforms as transforms\n",
        "\n",
        "# Load and resize the image\n",
        "image = Image.open(\"/3_space.png\").resize((28, 28))\n",
        "\n",
        "# Convert to grayscale\n",
        "image = image.convert('L')\n",
        "\n",
        "# Preprocess the image\n",
        "transform = transforms.ToTensor()\n",
        "image = transform(image).unsqueeze(0)\n",
        "\n",
        "# Make prediction\n",
        "model.eval()\n",
        "output = model(image)\n",
        "prediction = output.argmax(dim=1, keepdim=True).item()\n",
        "print(output)\n",
        "# Print the prediction\n",
        "print(f\"Prediction: {prediction}\")\n",
        "#show predicted image\n",
        "image = image.squeeze()\n",
        "plt.imshow(image, cmap='gray')\n",
        "#plt.show()\n",
        "import torch\n",
        "\n",
        "# Create a random tensor\n",
        "tensor = output\n",
        "\n",
        "# Normalize the tensor\n",
        "tensor = tensor * 255 / tensor.max()\n",
        "\n",
        "# Convert the tensor to a NumPy array\n",
        "image_array = tensor.detach().cpu().numpy()\n",
        "\n",
        "# Display the image\n",
        "import matplotlib.pyplot as plt\n",
        "\n",
        "plt.imshow(image_array, cmap=\"gray\")\n",
        "plt.show()\n"
      ],
      "metadata": {
        "colab": {
          "base_uri": "https://localhost:8080/",
          "height": 239
        },
        "id": "ybVsYvDovmxN",
        "outputId": "81f063fd-a73c-4cae-c536-14af3d8a1bcb"
      },
      "execution_count": 58,
      "outputs": [
        {
          "output_type": "stream",
          "name": "stdout",
          "text": [
            "tensor([[2.6107e-08, 2.3660e-05, 1.1463e-05, 1.4181e-05, 9.9995e-01, 1.2211e-09,\n",
            "         3.7293e-09, 3.7759e-06, 4.7507e-09, 1.2511e-06]],\n",
            "       grad_fn=<SoftmaxBackward0>)\n",
            "Prediction: 4\n"
          ]
        },
        {
          "output_type": "stream",
          "name": "stderr",
          "text": [
            "<ipython-input-22-bc70bc70c887>:26: UserWarning: Implicit dimension choice for softmax has been deprecated. Change the call to include dim=X as an argument.\n",
            "  return F.softmax(x)\n"
          ]
        },
        {
          "output_type": "display_data",
          "data": {
            "text/plain": [
              "<Figure size 640x480 with 1 Axes>"
            ],
            "image/png": "[encoded data removed]"
          },
          "metadata": {}
        }
      ]
    },
    {
      "cell_type": "code",
      "source": [
        "import torch\n",
        "\n",
        "# Create a random tensor\n",
        "tensor = torch.randn(1, 28, 28)\n",
        "\n",
        "# Normalize the tensor\n",
        "tensor = tensor * 255 / tensor.max()\n",
        "\n",
        "# Convert the tensor to a NumPy array\n",
        "image_array = tensor.squeeze().cpu().numpy()\n",
        "\n",
        "# Display the image\n",
        "import matplotlib.pyplot as plt\n",
        "\n",
        "plt.imshow(image_array, cmap=\"gray\")\n",
        "plt.show()"
      ],
      "metadata": {
        "colab": {
          "base_uri": "https://localhost:8080/",
          "height": 430
        },
        "id": "kH2zkCeOvr2j",
        "outputId": "9bdc0c40-a169-44c1-aca6-370f36f4b0a5"
      },
      "execution_count": 55,
      "outputs": [
        {
          "output_type": "display_data",
          "data": {
            "text/plain": [
              "<Figure size 640x480 with 1 Axes>"
            ],
            "image/png": "[encoded data removed]"
          },
          "metadata": {}
        }
      ]
    },
    {
      "cell_type": "code",
      "source": [],
      "metadata": {
        "id": "4m2mB1Lw86t8"
      },
      "execution_count": null,
      "outputs": []
    }
  ]
}